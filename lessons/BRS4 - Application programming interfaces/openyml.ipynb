{
 "cells": [
  {
   "cell_type": "code",
   "execution_count": 30,
   "metadata": {},
   "outputs": [],
   "source": [
    "import requests\n",
    "import yaml\n",
    "\n",
    "\n",
    "#load githu acces token form ayml file\n",
    "with open ('secrets.yml') as f:\n",
    "    secrets = yaml.safe_load(f)\n",
    "    \n",
    "    \n",
    "#Get user\n",
    "\n",
    "headers = {'Authorization': 'Bearer ' + secrets['key'],\n",
    "           'Accept': 'application/vnd.github+json'}\n",
    "url = 'https://api.github.com/user'\n",
    "r = requests.get(url, headers=headers)"
   ]
  },
  {
   "cell_type": "code",
   "execution_count": 31,
   "metadata": {},
   "outputs": [
    {
     "name": "stdout",
     "output_type": "stream",
     "text": [
      "<Response [200]>\n"
     ]
    }
   ],
   "source": [
    "print (r)"
   ]
  },
  {
   "cell_type": "code",
   "execution_count": 32,
   "metadata": {},
   "outputs": [
    {
     "name": "stdout",
     "output_type": "stream",
     "text": [
      "GitHub username: struongest1\n",
      "Number of followers: 0\n",
      "Number of repositories: 15\n"
     ]
    }
   ],
   "source": [
    "data = r.json()\n",
    "\n",
    "print(f\"GitHub username: {data['login']}\")\n",
    "print(f\"Number of followers: {data['followers']}\")\n",
    "print(f\"Number of repositories: {data['public_repos']}\")"
   ]
  },
  {
   "cell_type": "code",
   "execution_count": 28,
   "metadata": {},
   "outputs": [
    {
     "data": {
      "text/plain": [
       "<Response [200]>"
      ]
     },
     "execution_count": 28,
     "metadata": {},
     "output_type": "execute_result"
    }
   ],
   "source": [
    "topicname = 'dsi_c2_brs'\n",
    "message = 'This is how we spam the world!'\n",
    "\n",
    "requests.post(f\"https://ntfy.sh/{topicname}\", \n",
    "    data=message.encode(encoding='utf-8'))\n",
    "\n",
    "\n",
    "\n",
    "## we can use code to spam the world"
   ]
  }
 ],
 "metadata": {
  "kernelspec": {
   "display_name": "Python 3",
   "language": "python",
   "name": "python3"
  },
  "language_info": {
   "codemirror_mode": {
    "name": "ipython",
    "version": 3
   },
   "file_extension": ".py",
   "mimetype": "text/x-python",
   "name": "python",
   "nbconvert_exporter": "python",
   "pygments_lexer": "ipython3",
   "version": "3.11.5"
  }
 },
 "nbformat": 4,
 "nbformat_minor": 2
}
